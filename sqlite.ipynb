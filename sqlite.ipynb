{
 "cells": [
  {
   "cell_type": "markdown",
   "metadata": {},
   "source": [
    "## Import Libraries and file path setting"
   ]
  },
  {
   "cell_type": "code",
   "execution_count": 105,
   "metadata": {},
   "outputs": [],
   "source": [
    "import sqlite3\n",
    "import pandas as pd\n",
    "import numpy as np\n",
    "from sqlite3 import Error\n",
    "\n",
    "path = \"./simulation_results.db\"\n",
    "strength_table_name = \"strength\"\n",
    "para_table_name = \"para\""
   ]
  },
  {
   "cell_type": "markdown",
   "metadata": {},
   "source": [
    "## Create database connection"
   ]
  },
  {
   "cell_type": "code",
   "execution_count": 106,
   "metadata": {},
   "outputs": [],
   "source": [
    "def create_connection():\n",
    "    \"\"\" create a database connection to the SQLite database\n",
    "        specified by db_file\n",
    "    :param db_file: database file\n",
    "    :return: Connection object or None\n",
    "    \"\"\"\n",
    "    conn = None\n",
    "    try:\n",
    "        conn = sqlite3.connect(path)\n",
    "        return conn\n",
    "    except Error as e:\n",
    "        print(e)\n",
    "\n",
    "    return conn"
   ]
  },
  {
   "cell_type": "markdown",
   "metadata": {},
   "source": [
    "## Create new table"
   ]
  },
  {
   "cell_type": "code",
   "execution_count": 107,
   "metadata": {},
   "outputs": [],
   "source": [
    "def create_table(conn, create_table_sql):\n",
    "    \"\"\" create a table from the create_table_sql statement\n",
    "    :param conn: Connection object\n",
    "    :param create_table_sql: a CREATE TABLE statement\n",
    "    :return:\n",
    "    \"\"\"\n",
    "    try:\n",
    "        c = conn.cursor()\n",
    "        c.execute(create_table_sql)\n",
    "    except Error as e:\n",
    "        print(e)\n",
    "\n",
    "        \n",
    "def init_para_table():\n",
    "    # Project ID, Tape Length, Tape Width, Tape Thickness, Tape Angle, Specimen Length, Specimen Width, Specimen Thickness, vf, Layer Parameter, Tensile Strength\n",
    "\n",
    "    sql_create_table = f\"\"\" CREATE TABLE IF NOT EXISTS {para_table_name} (\n",
    "                                        id integer PRIMARY KEY,\n",
    "                                        parameters text NOT NULL\n",
    "                                    ); \"\"\"\n",
    "\n",
    "    # create a database connection\n",
    "    conn = create_connection()\n",
    "\n",
    "    # create tables\n",
    "    if conn is not None:\n",
    "        # create projects table\n",
    "        create_table(conn, sql_create_table)\n",
    "        \n",
    "    else:\n",
    "        print(\"Error! cannot create the database connection.\")\n",
    "        \n",
    "\n",
    "\n",
    "def init_strength_table():\n",
    "    # Project ID, Tape Length, Tape Width, Tape Thickness, Tape Angle, Specimen Length, Specimen Width, Specimen Thickness, vf, Layer Parameter, Tensile Strength\n",
    "\n",
    "    sql_create_table = f\"\"\" CREATE TABLE IF NOT EXISTS {strength_table_name} (\n",
    "                                        id integer PRIMARY KEY,\n",
    "                                        para_id integer,\n",
    "                                        tensile_strength FLOAT\n",
    "                                    ); \"\"\"\n",
    "\n",
    "    # create a database connection\n",
    "    conn = create_connection()\n",
    "\n",
    "    # create tables\n",
    "    if conn is not None:\n",
    "        # create projects table\n",
    "        create_table(conn, sql_create_table)\n",
    "        \n",
    "    else:\n",
    "        print(\"Error! cannot create the database connection.\")"
   ]
  },
  {
   "cell_type": "code",
   "execution_count": 108,
   "metadata": {},
   "outputs": [],
   "source": [
    "init_strength_table()\n",
    "init_para_table()"
   ]
  },
  {
   "cell_type": "markdown",
   "metadata": {},
   "source": [
    "## Insert data into table"
   ]
  },
  {
   "cell_type": "code",
   "execution_count": 109,
   "metadata": {},
   "outputs": [],
   "source": [
    "def insert(conn, data, insert_sql):\n",
    "    \"\"\"\n",
    "    Create a new task\n",
    "    :param conn:\n",
    "    :param task:\n",
    "    :return:\n",
    "    \"\"\"\n",
    "\n",
    "    \"\"\"\n",
    "    tape_shape text NOT NULL,\n",
    "    tape_length FLOAT,\n",
    "    tape_width FLOAT,\n",
    "    tape_thickness FLOAT,\n",
    "    tape_angle integer,\n",
    "    specimen_length FLOAT,\n",
    "    specimen_width FLOAT,\n",
    "    specimen_thickness FLOAT,\n",
    "    vf FLOAT,\n",
    "    layer_parameter FLOAT,\n",
    "    tensile_strength FLOAT\n",
    "    \"\"\"    \n",
    "    cur = conn.cursor()\n",
    "    cur.execute(insert_sql, data)\n",
    "    conn.commit()\n",
    "    return cur.lastrowid"
   ]
  },
  {
   "cell_type": "markdown",
   "metadata": {},
   "source": [
    "## Find certain parameters return para_id"
   ]
  },
  {
   "cell_type": "code",
   "execution_count": 110,
   "metadata": {},
   "outputs": [],
   "source": [
    "def add_para_data(para):\n",
    "    # create a database connection\n",
    "    conn = create_connection()\n",
    "    with conn:\n",
    "        \n",
    "        insert_sql = f''' INSERT INTO {para_table_name}(parameters)\n",
    "              VALUES(?) '''\n",
    "        data_id = insert(conn, para, insert_sql)\n",
    "\n",
    "    return data_id\n",
    "\n",
    "def add_strength_data(strength):\n",
    "    # create a database connection\n",
    "    conn = create_connection()\n",
    "    with conn:\n",
    "        \n",
    "        insert_sql = f''' INSERT INTO {strength_table_name}(para_id, tensile_strength)\n",
    "              VALUES(?, ?) '''\n",
    "        data_id = insert(conn, strength, insert_sql)\n",
    "\n",
    "    return data_id\n",
    "\n",
    "def find_para_return_id(parameters):\n",
    "    \"\"\"\n",
    "    Find a certain data in the SQLite database and return its id.\n",
    "    \"\"\"\n",
    "    try:\n",
    "        # Connect to the SQLite database\n",
    "        conn = create_connection()\n",
    "        c = conn.cursor()\n",
    "\n",
    "        # SQL query to find the data\n",
    "        query = f\"SELECT id FROM {para_table_name} WHERE parameters = ?\"\n",
    "        c.execute(query, (parameters, ))\n",
    "\n",
    "        # Fetch the result\n",
    "        result = c.fetchone()\n",
    "        if not result:\n",
    "            return add_para_data(parameters)\n",
    "        else:\n",
    "            return result[0]\n",
    "\n",
    "    except Error as e:\n",
    "        print(f\"Database error: {e}\")\n",
    "        return None\n",
    "    finally:\n",
    "        if conn:\n",
    "            conn.close()"
   ]
  },
  {
   "cell_type": "markdown",
   "metadata": {},
   "source": [
    "## Insert simulation data into database"
   ]
  },
  {
   "cell_type": "code",
   "execution_count": 111,
   "metadata": {},
   "outputs": [],
   "source": [
    "def add_simulaiton_data(data):\n",
    "    parameters = ', '.join(map(str, data[:-1]))\n",
    "    \n",
    "    para_id = find_para_return_id(parameters)\n",
    "    strength_data = (para_id, data[-1])\n",
    "    data_id = add_strength_data(strength_data)\n",
    "        \n",
    "    return data_id"
   ]
  },
  {
   "cell_type": "markdown",
   "metadata": {},
   "source": [
    "## Generate random number in normal distribution "
   ]
  },
  {
   "cell_type": "code",
   "execution_count": 112,
   "metadata": {},
   "outputs": [],
   "source": [
    "def generate_random_float_normal_dist(min_value, max_value, mean=None, std_dev=None):\n",
    "    \"\"\"\n",
    "    Generate a random float number within the specified range from a normal distribution.\n",
    "\n",
    "    :param min_value: Minimum value of the range\n",
    "    :param max_value: Maximum value of the range\n",
    "    :param mean: Mean of the normal distribution\n",
    "    :param std_dev: Standard deviation of the normal distribution\n",
    "    :return: A random float number between min_value and max_value\n",
    "    \"\"\"\n",
    "    if mean is None:\n",
    "        mean = (min_value + max_value) / 2\n",
    "    if std_dev is None:\n",
    "        std_dev = (max_value - min_value) / 6  # Roughly 99.7% data within min_value and max_value\n",
    "\n",
    "    while True:\n",
    "        number = np.random.normal(mean, std_dev)\n",
    "        if min_value <= number <= max_value:\n",
    "            return number"
   ]
  },
  {
   "cell_type": "markdown",
   "metadata": {},
   "source": [
    "## Add random data into database"
   ]
  },
  {
   "cell_type": "code",
   "execution_count": 113,
   "metadata": {},
   "outputs": [],
   "source": [
    "data_num = 2\n",
    "\n",
    "for i in range(data_num):\n",
    "    random_tensile_strength = generate_random_float_normal_dist(350, 650)\n",
    "    data = (\"Parellogram\", 12, 5, 0.044, 90, 200, 30, 3, 0.5, 2, random_tensile_strength)\n",
    "    add_simulaiton_data(data)"
   ]
  },
  {
   "cell_type": "markdown",
   "metadata": {},
   "source": [
    "## Read data from database"
   ]
  },
  {
   "cell_type": "code",
   "execution_count": 114,
   "metadata": {},
   "outputs": [],
   "source": [
    "def read_para_id_by_para(para_data):\n",
    "    parameters = ', '.join(map(str, para_data))\n",
    "    \n",
    "    # Connect to the SQLite database\n",
    "    conn = create_connection()\n",
    "    \n",
    "    # Create a cursor object\n",
    "    cursor = conn.cursor()\n",
    "\n",
    "    # SQL query to select row based on ID\n",
    "    query = f\"SELECT * FROM {para_table_name} WHERE parameters = ?\"\n",
    "\n",
    "    # Execute the query\n",
    "    cursor.execute(query, (parameters, ))\n",
    "\n",
    "    # Fetch the data\n",
    "    row = cursor.fetchone()\n",
    "\n",
    "    # Check if the row exists and print it\n",
    "    if row:\n",
    "        print(\"Found row:\", row)\n",
    "    else:\n",
    "        print(\"No row found with Parameters:\", parameters)\n",
    "        return None\n",
    "\n",
    "    # Close the connection\n",
    "    conn.close()\n",
    "    \n",
    "    return row[0]\n",
    "\n",
    "\n",
    "def read_strength_by_para_id(para_id):    \n",
    "    # Connect to the SQLite database\n",
    "    conn = create_connection()\n",
    "    \n",
    "    # Create a cursor object\n",
    "    cursor = conn.cursor()\n",
    "\n",
    "    # SQL query to select row based on ID\n",
    "    query = f\"SELECT * FROM {strength_table_name} WHERE para_id = ?\"\n",
    "\n",
    "    # Execute the query\n",
    "    cursor.execute(query, (para_id, ))\n",
    "\n",
    "    # Fetch the data\n",
    "    rows = cursor.fetchall()\n",
    "\n",
    "    # Close the connection\n",
    "    conn.close()\n",
    "    \n",
    "    return [row[-1] for row in rows]\n",
    "\n",
    "\n",
    "def read_strengths_by_para(para_data):\n",
    "    para_id = read_para_id_by_para(para_data)\n",
    "    return read_strength_by_para_id(para_id)\n",
    "\n",
    "\n",
    "def read_all_data():\n",
    "    # Connect to the SQLite database\n",
    "    conn = create_connection()\n",
    "\n",
    "    # SQL query\n",
    "    query_strength = f\"SELECT * FROM {strength_table_name}\"\n",
    "    query_parameter = f\"SELECT * FROM {para_table_name}\"\n",
    "\n",
    "    # Read the data into a DataFrame\n",
    "    df_strength = pd.read_sql_query(query_strength, conn)\n",
    "    df_parameter = pd.read_sql_query(query_parameter, conn)\n",
    "\n",
    "    # Close the connection\n",
    "    conn.close()\n",
    "\n",
    "    # Now you can work with the DataFrame df\n",
    "    print(df_strength.head(10))\n",
    "    print(df_parameter.head(10))"
   ]
  },
  {
   "cell_type": "code",
   "execution_count": 117,
   "metadata": {},
   "outputs": [
    {
     "name": "stdout",
     "output_type": "stream",
     "text": [
      "Found row: (3, 'Parellogram, 12, 5, 0.044, 60, 200, 30, 3, 0.5, 2')\n"
     ]
    },
    {
     "data": {
      "text/plain": [
       "[495.6396160929136, 555.1638734741507]"
      ]
     },
     "execution_count": 117,
     "metadata": {},
     "output_type": "execute_result"
    }
   ],
   "source": [
    "para_data = (\"Parellogram\", 12, 5, 0.044, 60, 200, 30, 3, 0.5, 2)\n",
    "read_strengths_by_para(para_data)"
   ]
  },
  {
   "cell_type": "code",
   "execution_count": 116,
   "metadata": {},
   "outputs": [
    {
     "name": "stdout",
     "output_type": "stream",
     "text": [
      "   id  para_id  tensile_strength\n",
      "0   1        1        519.618542\n",
      "1   2        1        513.550776\n",
      "2   3        2        548.874705\n",
      "3   4        2        556.028437\n",
      "4   5        3        495.639616\n",
      "5   6        3        555.163873\n",
      "6   7        2        444.188603\n",
      "7   8        2        591.509416\n",
      "8   9        2        562.153372\n",
      "9  10        2        484.244677\n",
      "   id                                         parameters\n",
      "0   1    Rectangle, 18, 5, 0.044, 90, 200, 30, 3, 0.5, 2\n",
      "1   2  Parellogram, 12, 5, 0.044, 90, 200, 30, 3, 0.5, 2\n",
      "2   3  Parellogram, 12, 5, 0.044, 60, 200, 30, 3, 0.5, 2\n"
     ]
    }
   ],
   "source": [
    "read_all_data()"
   ]
  }
 ],
 "metadata": {
  "kernelspec": {
   "display_name": "base",
   "language": "python",
   "name": "python3"
  },
  "language_info": {
   "codemirror_mode": {
    "name": "ipython",
    "version": 3
   },
   "file_extension": ".py",
   "mimetype": "text/x-python",
   "name": "python",
   "nbconvert_exporter": "python",
   "pygments_lexer": "ipython3",
   "version": "3.7.6"
  }
 },
 "nbformat": 4,
 "nbformat_minor": 2
}
